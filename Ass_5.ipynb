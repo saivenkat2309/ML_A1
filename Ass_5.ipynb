{
  "nbformat": 4,
  "nbformat_minor": 0,
  "metadata": {
    "colab": {
      "provenance": [],
      "authorship_tag": "ABX9TyOL6EDjTcxpzk42406OcaoY",
      "include_colab_link": true
    },
    "kernelspec": {
      "name": "python3",
      "display_name": "Python 3"
    },
    "language_info": {
      "name": "python"
    }
  },
  "cells": [
    {
      "cell_type": "markdown",
      "metadata": {
        "id": "view-in-github",
        "colab_type": "text"
      },
      "source": [
        "<a href=\"https://colab.research.google.com/github/saivenkat2309/ML_A1/blob/main/Ass_5.ipynb\" target=\"_parent\"><img src=\"https://colab.research.google.com/assets/colab-badge.svg\" alt=\"Open In Colab\"/></a>"
      ]
    },
    {
      "cell_type": "code",
      "execution_count": 341,
      "metadata": {
        "id": "mSfWJLt4X0WU"
      },
      "outputs": [],
      "source": [
        "import numpy as np\n",
        "import matplotlib.pyplot as plt\n",
        "import torch"
      ]
    },
    {
      "cell_type": "code",
      "source": [
        "t_c = [0.4, 14.0, 15.0, 29.0, 11.0, 8.0, 4.0, -4.0, 6.0, 14.0, 22.0]\n",
        "t_u = [35.7, 54.9, 58.3, 81.9, 56.3, 48.9, 33.8, 21.8, 48.4, 60.3, 68.4]\n",
        "t_c = torch.tensor(t_c)\n",
        "t_u = torch.tensor(t_u)"
      ],
      "metadata": {
        "id": "rJTLaIgyX8Xd"
      },
      "execution_count": 342,
      "outputs": []
    },
    {
      "cell_type": "code",
      "source": [
        "def model(t_u, w1, w2, b):\n",
        "    return w2*t_u**2 + w1*t_u + b # description for our model w2 * t_u ** 2 + w1 * t_u + b."
      ],
      "metadata": {
        "id": "aHVBTKKXZeiJ"
      },
      "execution_count": 343,
      "outputs": []
    },
    {
      "cell_type": "code",
      "source": [
        "def loss_fn(t_p, t_c):\n",
        "    squared_diffs = (t_p - t_c)**2\n",
        "    return squared_diffs.mean()"
      ],
      "metadata": {
        "id": "7JtVDH0taHm5"
      },
      "execution_count": 344,
      "outputs": []
    },
    {
      "cell_type": "code",
      "source": [
        "def training_loop(n_epochs, optimizer, params, t_u, t_c):\n",
        "    for epoch in range(1, n_epochs + 1):\n",
        "        t_p = model(t_u, *params)\n",
        "        loss = loss_fn(t_p, t_c)\n",
        "\n",
        "        optimizer.zero_grad()\n",
        "        loss.backward()\n",
        "        optimizer.step()\n",
        "\n",
        "        if epoch <= 1 or epoch % 550 ==0:\n",
        "            print(f\"Epoch {epoch}, loss {loss.item():.4f}\")\n",
        "\n",
        "    return params"
      ],
      "metadata": {
        "id": "6UqjKws4aeaf"
      },
      "execution_count": 345,
      "outputs": []
    },
    {
      "cell_type": "code",
      "source": [
        "import torch.optim as optim\n",
        "\n",
        "dir(optim)"
      ],
      "metadata": {
        "colab": {
          "base_uri": "https://localhost:8080/"
        },
        "id": "3Vm_6G91bBUR",
        "outputId": "1ef8b237-173c-42dc-f327-dc02b0268029"
      },
      "execution_count": 346,
      "outputs": [
        {
          "output_type": "execute_result",
          "data": {
            "text/plain": [
              "['ASGD',\n",
              " 'Adadelta',\n",
              " 'Adagrad',\n",
              " 'Adam',\n",
              " 'AdamW',\n",
              " 'Adamax',\n",
              " 'LBFGS',\n",
              " 'NAdam',\n",
              " 'Optimizer',\n",
              " 'RAdam',\n",
              " 'RMSprop',\n",
              " 'Rprop',\n",
              " 'SGD',\n",
              " 'SparseAdam',\n",
              " '__builtins__',\n",
              " '__cached__',\n",
              " '__doc__',\n",
              " '__file__',\n",
              " '__loader__',\n",
              " '__name__',\n",
              " '__package__',\n",
              " '__path__',\n",
              " '__spec__',\n",
              " '_functional',\n",
              " '_multi_tensor',\n",
              " 'lr_scheduler',\n",
              " 'swa_utils']"
            ]
          },
          "metadata": {},
          "execution_count": 346
        }
      ]
    },
    {
      "cell_type": "code",
      "source": [
        "t_un = 0.1 * t_u\n",
        "params = torch.tensor([1.0,1.0,0.0], requires_grad=True)\n",
        "learning_rate = 0.1\n",
        "optimizer = optim.Adam([params], lr = learning_rate)\n",
        "\n",
        "training_loop(\n",
        "    n_epochs=5000,\n",
        "    optimizer = optimizer,\n",
        "    params = params,\n",
        "    t_u = t_un,\n",
        "    t_c = t_c)"
      ],
      "metadata": {
        "colab": {
          "base_uri": "https://localhost:8080/"
        },
        "id": "eAPVLWnobUPw",
        "outputId": "17d3d1ca-6e6c-4682-b1a5-b05519547110"
      },
      "execution_count": 347,
      "outputs": [
        {
          "output_type": "stream",
          "name": "stdout",
          "text": [
            "Epoch 1, loss 649.2491\n",
            "Epoch 550, loss 3.2444\n",
            "Epoch 1100, loss 2.9760\n",
            "Epoch 1650, loss 2.7977\n",
            "Epoch 2200, loss 2.7221\n",
            "Epoch 2750, loss 2.7024\n",
            "Epoch 3300, loss 2.6995\n",
            "Epoch 3850, loss 2.6993\n",
            "Epoch 4400, loss 2.6993\n",
            "Epoch 4950, loss 2.6993\n"
          ]
        },
        {
          "output_type": "execute_result",
          "data": {
            "text/plain": [
              "tensor([ 2.1994,  0.3234, -9.9929], requires_grad=True)"
            ]
          },
          "metadata": {},
          "execution_count": 347
        }
      ]
    },
    {
      "cell_type": "code",
      "source": [
        "t_p = model(t_un, *params)\n",
        "plt.figure()\n",
        "plt.xlabel('Temperature (Fahrenheit)')# set lable on x axis\n",
        "plt.ylabel('Temperature (Celsius)')#set lable on y axis\n",
        "plt.plot(t_u.numpy(), t_p.detach().numpy(), color='black', label='Model Predictions')\n",
        "plt.plot(t_u.numpy(), t_c.numpy(), 'p', label='real Data')# Plot the real data as points\n",
        "plt.title(\"MP vs RD with the learning rate - 0.1\")\n",
        "plt.legend()\n",
        "plt.show()# display the plot"
      ],
      "metadata": {
        "colab": {
          "base_uri": "https://localhost:8080/",
          "height": 472
        },
        "id": "C0C3KZWfcrnc",
        "outputId": "62a6edab-68a8-4909-a1b7-f77513465a67"
      },
      "execution_count": 348,
      "outputs": [
        {
          "output_type": "display_data",
          "data": {
            "text/plain": [
              "<Figure size 640x480 with 1 Axes>"
            ],
            "image/png": "[encoded data removed]"
          },
          "metadata": {}
        }
      ]
    },
    {
      "cell_type": "code",
      "source": [
        "t_un = 0.01 * t_u\n",
        "params = torch.tensor([2.0,2.0,1.0], requires_grad=True)\n",
        "learning_rate = 0.01\n",
        "optimizer = optim.Adam([params], lr = learning_rate)\n",
        "\n",
        "training_loop(\n",
        "    n_epochs=6000,\n",
        "    optimizer = optimizer,\n",
        "    params = params,\n",
        "    t_u = t_un,\n",
        "    t_c = t_c)"
      ],
      "metadata": {
        "colab": {
          "base_uri": "https://localhost:8080/"
        },
        "id": "24bQmNpbdT4N",
        "outputId": "9df84e35-6386-4fba-ddf2-7f9de5002780"
      },
      "execution_count": 349,
      "outputs": [
        {
          "output_type": "stream",
          "name": "stdout",
          "text": [
            "Epoch 1, loss 138.3838\n",
            "Epoch 550, loss 50.8195\n",
            "Epoch 1100, loss 39.5734\n",
            "Epoch 1650, loss 31.2737\n",
            "Epoch 2200, loss 23.1321\n",
            "Epoch 2750, loss 16.0356\n",
            "Epoch 3300, loss 10.5039\n",
            "Epoch 3850, loss 6.6815\n",
            "Epoch 4400, loss 4.3980\n",
            "Epoch 4950, loss 3.2695\n",
            "Epoch 5500, loss 2.8383\n"
          ]
        },
        {
          "output_type": "execute_result",
          "data": {
            "text/plain": [
              "tensor([22.9665, 30.4573, -9.9256], requires_grad=True)"
            ]
          },
          "metadata": {},
          "execution_count": 349
        }
      ]
    },
    {
      "cell_type": "code",
      "source": [
        "t_p = model(t_un, *params)\n",
        "plt.figure()\n",
        "plt.xlabel('Temperature (Fahrenheit)')# set lable on x axis\n",
        "plt.ylabel('Temperature (Celsius)')#set lable on y axis\n",
        "plt.plot(t_u.numpy(), t_p.detach().numpy(), color='black', label='Model Predictions')\n",
        "plt.plot(t_u.numpy(), t_c.numpy(), 'p', label='real Data')# Plot the real data as points\n",
        "plt.title(\"MP vs RD with the learning rate - 0.01\")\n",
        "plt.legend()\n",
        "plt.show()# display the plot"
      ],
      "metadata": {
        "colab": {
          "base_uri": "https://localhost:8080/",
          "height": 472
        },
        "id": "-CA2PIOvd7ty",
        "outputId": "d9b39c7f-5368-4679-e2db-c14bb10eceff"
      },
      "execution_count": 350,
      "outputs": [
        {
          "output_type": "display_data",
          "data": {
            "text/plain": [
              "<Figure size 640x480 with 1 Axes>"
            ],
            "image/png": "[encoded data removed]"
          },
          "metadata": {}
        }
      ]
    },
    {
      "cell_type": "code",
      "source": [
        "t_un = 0.01 * t_u\n",
        "params = torch.tensor([2.0,2.0,1.0], requires_grad=True)\n",
        "learning_rate = 0.001\n",
        "optimizer = optim.Adam([params], lr = learning_rate)\n",
        "\n",
        "training_loop(\n",
        "    n_epochs=6500,\n",
        "    optimizer = optimizer,\n",
        "    params = params,\n",
        "    t_u = t_un,\n",
        "    t_c = t_c)"
      ],
      "metadata": {
        "colab": {
          "base_uri": "https://localhost:8080/"
        },
        "id": "nB4eEhzteoj9",
        "outputId": "72bcb2e4-766f-411c-fe15-176b0db6559a"
      },
      "execution_count": 351,
      "outputs": [
        {
          "output_type": "stream",
          "name": "stdout",
          "text": [
            "Epoch 1, loss 138.3838\n",
            "Epoch 550, loss 120.4981\n",
            "Epoch 1100, loss 105.2444\n",
            "Epoch 1650, loss 92.3218\n",
            "Epoch 2200, loss 81.4579\n",
            "Epoch 2750, loss 72.4287\n",
            "Epoch 3300, loss 65.0417\n",
            "Epoch 3850, loss 59.1212\n",
            "Epoch 4400, loss 54.4925\n",
            "Epoch 4950, loss 50.9669\n",
            "Epoch 5500, loss 48.3275\n",
            "Epoch 6050, loss 46.3201\n"
          ]
        },
        {
          "output_type": "execute_result",
          "data": {
            "text/plain": [
              "tensor([7.1707, 7.5006, 5.0520], requires_grad=True)"
            ]
          },
          "metadata": {},
          "execution_count": 351
        }
      ]
    },
    {
      "cell_type": "code",
      "source": [
        "t_p = model(t_un, *params)\n",
        "plt.figure()\n",
        "plt.xlabel('Temperature (Fahrenheit)')# set lable on x axis\n",
        "plt.ylabel('Temperature (Celsius)')#set lable on y axis\n",
        "plt.plot(t_u.numpy(), t_p.detach().numpy(), color='black', label='Model Predictions')\n",
        "plt.plot(t_u.numpy(), t_c.numpy(), 'p', label='real Data')# Plot the real data as points\n",
        "plt.title(\"MP vs RD with the learning rate - 0.001\")\n",
        "plt.legend()\n",
        "plt.show()#display the plot"
      ],
      "metadata": {
        "colab": {
          "base_uri": "https://localhost:8080/",
          "height": 472
        },
        "id": "gbm3koF7fRke",
        "outputId": "5bc0dd45-9cdb-4a63-c118-bf63ee79dc0f"
      },
      "execution_count": 352,
      "outputs": [
        {
          "output_type": "display_data",
          "data": {
            "text/plain": [
              "<Figure size 640x480 with 1 Axes>"
            ],
            "image/png": "[encoded data removed]"
          },
          "metadata": {}
        }
      ]
    },
    {
      "cell_type": "code",
      "source": [
        "t_un = 0.1 * t_u\n",
        "params = torch.tensor([2.0,2.0,1.0], requires_grad=True)\n",
        "learning_rate = 0.0001\n",
        "optimizer = optim.SGD([params], lr = learning_rate)\n",
        "\n",
        "training_loop(\n",
        "    n_epochs=6800,\n",
        "    optimizer = optimizer,\n",
        "    params = params,\n",
        "    t_u = t_un,\n",
        "    t_c = t_c)"
      ],
      "metadata": {
        "colab": {
          "base_uri": "https://localhost:8080/"
        },
        "id": "ctwG56lnfyr-",
        "outputId": "d01d6e64-5bd9-4568-c62f-16d07186976b"
      },
      "execution_count": 353,
      "outputs": [
        {
          "output_type": "stream",
          "name": "stdout",
          "text": [
            "Epoch 1, loss 4261.1919\n",
            "Epoch 550, loss 19.1867\n",
            "Epoch 1100, loss 14.4566\n",
            "Epoch 1650, loss 11.2110\n",
            "Epoch 2200, loss 8.9836\n",
            "Epoch 2750, loss 7.4546\n",
            "Epoch 3300, loss 6.4046\n",
            "Epoch 3850, loss 5.6831\n",
            "Epoch 4400, loss 5.1870\n",
            "Epoch 4950, loss 4.8454\n",
            "Epoch 5500, loss 4.6098\n",
            "Epoch 6050, loss 4.4469\n",
            "Epoch 6600, loss 4.3339\n"
          ]
        },
        {
          "output_type": "execute_result",
          "data": {
            "text/plain": [
              "tensor([-1.1905,  0.6061, -0.4035], requires_grad=True)"
            ]
          },
          "metadata": {},
          "execution_count": 353
        }
      ]
    },
    {
      "cell_type": "code",
      "source": [
        "t_p = model(t_un, *params)\n",
        "plt.figure()\n",
        "plt.xlabel('Temperature (Fahrenheit)')# set lable on x axis\n",
        "plt.ylabel('Temperature (Celsius)')# set lable on y axis\n",
        "plt.plot(t_u.numpy(), t_p.detach().numpy(), color='black', label='Model Predictions')\n",
        "plt.plot(t_u.numpy(), t_c.numpy(), 'p', label='actual Data')\n",
        "plt.legend()\n",
        "plt.show()# dispay the plot"
      ],
      "metadata": {
        "colab": {
          "base_uri": "https://localhost:8080/",
          "height": 449
        },
        "id": "L-w9QIoxgScC",
        "outputId": "cc9d1348-0978-43d8-ed05-dcee80ebfda5"
      },
      "execution_count": 354,
      "outputs": [
        {
          "output_type": "display_data",
          "data": {
            "text/plain": [
              "<Figure size 640x480 with 1 Axes>"
            ],
            "image/png": "[encoded data removed]"
          },
          "metadata": {}
        }
      ]
    },
    {
      "cell_type": "code",
      "source": [
        "t_un = 0.01*t_u\n",
        "params = torch.tensor([2.0,2.0,1.0], requires_grad=True)\n",
        "learning_rate = 0.1\n",
        "optimizer = optim.SGD([params], lr = learning_rate)\n",
        "\n",
        "training_loop(\n",
        "    n_epochs=6800,\n",
        "    optimizer = optimizer,\n",
        "    params = params,\n",
        "    t_u = t_un,\n",
        "    t_c = t_c)"
      ],
      "metadata": {
        "colab": {
          "base_uri": "https://localhost:8080/"
        },
        "id": "Fc2AN6fqhDEP",
        "outputId": "ba52cc01-4507-458a-f554-3aaa9951695d"
      },
      "execution_count": 355,
      "outputs": [
        {
          "output_type": "stream",
          "name": "stdout",
          "text": [
            "Epoch 1, loss 138.3838\n",
            "Epoch 550, loss 2.7167\n",
            "Epoch 1100, loss 2.7077\n",
            "Epoch 1650, loss 2.7068\n",
            "Epoch 2200, loss 2.7060\n",
            "Epoch 2750, loss 2.7053\n",
            "Epoch 3300, loss 2.7047\n",
            "Epoch 3850, loss 2.7042\n",
            "Epoch 4400, loss 2.7037\n",
            "Epoch 4950, loss 2.7032\n",
            "Epoch 5500, loss 2.7028\n",
            "Epoch 6050, loss 2.7025\n",
            "Epoch 6600, loss 2.7021\n"
          ]
        },
        {
          "output_type": "execute_result",
          "data": {
            "text/plain": [
              "tensor([ 23.6666,  30.7411, -10.3887], requires_grad=True)"
            ]
          },
          "metadata": {},
          "execution_count": 355
        }
      ]
    },
    {
      "cell_type": "code",
      "source": [
        "t_p = model(t_un, *params)\n",
        "\n",
        "plt.figure()\n",
        "plt.xlabel('Temperature (Fahrenheit)')# set lable on x axis\n",
        "plt.ylabel('Temperature (Celsius)')# set lable on y axis\n",
        "plt.plot(t_u.numpy(), t_p.detach().numpy(), color='black', label='Model Predictions')\n",
        "plt.plot(t_u.numpy(), t_c.numpy(), 'p', label='real Data')# Plot the real data as points\n",
        "plt.title(\"SGD optimizer with learning rate - 0.2\")\n",
        "plt.legend()\n",
        "plt.show()#display the plots"
      ],
      "metadata": {
        "colab": {
          "base_uri": "https://localhost:8080/",
          "height": 472
        },
        "id": "xue3ykGDhXHp",
        "outputId": "b9fc724b-7f9b-447b-e914-899f6b2a8766"
      },
      "execution_count": 356,
      "outputs": [
        {
          "output_type": "display_data",
          "data": {
            "text/plain": [
              "<Figure size 640x480 with 1 Axes>"
            ],
            "image/png": "[encoded data removed]"
          },
          "metadata": {}
        }
      ]
    },
    {
      "cell_type": "code",
      "source": [
        "t_un =0.1* t_u\n",
        "params = torch.tensor([2.0,2.0,1.0], requires_grad=True)\n",
        "learning_rate = 0.00000001\n",
        "optimizer = optim.SGD([params], lr = learning_rate)\n",
        "\n",
        "training_loop(\n",
        "    n_epochs=6700,\n",
        "    optimizer = optimizer,\n",
        "    params = params,\n",
        "    t_u = t_un,\n",
        "    t_c = t_c)"
      ],
      "metadata": {
        "colab": {
          "base_uri": "https://localhost:8080/"
        },
        "id": "cu8WadyCh4Np",
        "outputId": "8d63b5cf-4276-4f09-9697-94b53650266f"
      },
      "execution_count": 357,
      "outputs": [
        {
          "output_type": "stream",
          "name": "stdout",
          "text": [
            "Epoch 1, loss 4261.1919\n",
            "Epoch 550, loss 4154.0991\n",
            "Epoch 1100, loss 4049.5330\n",
            "Epoch 1650, loss 3947.6072\n",
            "Epoch 2200, loss 3848.2666\n",
            "Epoch 2750, loss 3751.4453\n",
            "Epoch 3300, loss 3657.0718\n",
            "Epoch 3850, loss 3565.0830\n",
            "Epoch 4400, loss 3475.4431\n",
            "Epoch 4950, loss 3388.0623\n",
            "Epoch 5500, loss 3302.8909\n",
            "Epoch 6050, loss 3219.8850\n",
            "Epoch 6600, loss 3138.9744\n"
          ]
        },
        {
          "output_type": "execute_result",
          "data": {
            "text/plain": [
              "tensor([1.9567, 1.7278, 0.9926], requires_grad=True)"
            ]
          },
          "metadata": {},
          "execution_count": 357
        }
      ]
    },
    {
      "cell_type": "code",
      "source": [
        "t_p = model(t_un, *params)\n",
        "plt.figure()\n",
        "plt.xlabel('Temperature (Fahrenheit)')# set lable on x axis\n",
        "plt.ylabel('Temperature (Celsius)')# set lable on y axis\n",
        "plt.plot(t_u.numpy(), t_p.detach().numpy(), color='black', label='Model Predictions')\n",
        "# Plot the real data as points\n",
        "plt.plot(t_u.numpy(), t_c.numpy(), 'p', label='real Data')\n",
        "plt.title(\"MP vs RD with learning rate - 0.00000001\")\n",
        "plt.legend()\n",
        "plt.show()# dosplay the plots"
      ],
      "metadata": {
        "colab": {
          "base_uri": "https://localhost:8080/",
          "height": 472
        },
        "id": "VITmi0T6iHpG",
        "outputId": "f052c986-a338-4de6-db57-1f0cc735da33"
      },
      "execution_count": 358,
      "outputs": [
        {
          "output_type": "display_data",
          "data": {
            "text/plain": [
              "<Figure size 640x480 with 1 Axes>"
            ],
            "image/png": "[encoded data removed]"
          },
          "metadata": {}
        }
      ]
    },
    {
      "cell_type": "code",
      "source": [
        "import pandas as pd\n",
        "from sklearn.preprocessing import MinMaxScaler\n",
        "from sklearn.model_selection import train_test_split\n",
        "np.random.seed(0)"
      ],
      "metadata": {
        "id": "EfUoNe3Gii9o"
      },
      "execution_count": 359,
      "outputs": []
    },
    {
      "cell_type": "code",
      "source": [
        "df = pd.read_csv('/opt/google/drive/Housing.csv')\n",
        "\n",
        "# Display the last 5 rows of the DataFrame\n",
        "df.tail()"
      ],
      "metadata": {
        "colab": {
          "base_uri": "https://localhost:8080/",
          "height": 206
        },
        "id": "RHRZHqaLiqde",
        "outputId": "31bc7afa-32d5-47c2-ea8f-f65f0e60124f"
      },
      "execution_count": 360,
      "outputs": [
        {
          "output_type": "execute_result",
          "data": {
            "text/plain": [
              "       price  area  bedrooms  bathrooms  stories mainroad guestroom basement  \\\n",
              "540  1820000  3000         2          1        1      yes        no      yes   \n",
              "541  1767150  2400         3          1        1       no        no       no   \n",
              "542  1750000  3620         2          1        1      yes        no       no   \n",
              "543  1750000  2910         3          1        1       no        no       no   \n",
              "544  1750000  3850         3          1        2      yes        no       no   \n",
              "\n",
              "    hotwaterheating airconditioning  parking prefarea furnishingstatus  \n",
              "540              no              no        2       no      unfurnished  \n",
              "541              no              no        0       no   semi-furnished  \n",
              "542              no              no        0       no      unfurnished  \n",
              "543              no              no        0       no        furnished  \n",
              "544              no              no        0       no      unfurnished  "
            ],
            "text/html": [
              "\n",
              "  <div id=\"df-f38ca912-1404-4f80-b183-3ec6fe34abba\" class=\"colab-df-container\">\n",
              "    <div>\n",
              "<style scoped>\n",
              "    .dataframe tbody tr th:only-of-type {\n",
              "        vertical-align: middle;\n",
              "    }\n",
              "\n",
              "    .dataframe tbody tr th {\n",
              "        vertical-align: top;\n",
              "    }\n",
              "\n",
              "    .dataframe thead th {\n",
              "        text-align: right;\n",
              "    }\n",
              "</style>\n",
              "<table border=\"1\" class=\"dataframe\">\n",
              "  <thead>\n",
              "    <tr style=\"text-align: right;\">\n",
              "      <th></th>\n",
              "      <th>price</th>\n",
              "      <th>area</th>\n",
              "      <th>bedrooms</th>\n",
              "      <th>bathrooms</th>\n",
              "      <th>stories</th>\n",
              "      <th>mainroad</th>\n",
              "      <th>guestroom</th>\n",
              "      <th>basement</th>\n",
              "      <th>hotwaterheating</th>\n",
              "      <th>airconditioning</th>\n",
              "      <th>parking</th>\n",
              "      <th>prefarea</th>\n",
              "      <th>furnishingstatus</th>\n",
              "    </tr>\n",
              "  </thead>\n",
              "  <tbody>\n",
              "    <tr>\n",
              "      <th>540</th>\n",
              "      <td>1820000</td>\n",
              "      <td>3000</td>\n",
              "      <td>2</td>\n",
              "      <td>1</td>\n",
              "      <td>1</td>\n",
              "      <td>yes</td>\n",
              "      <td>no</td>\n",
              "      <td>yes</td>\n",
              "      <td>no</td>\n",
              "      <td>no</td>\n",
              "      <td>2</td>\n",
              "      <td>no</td>\n",
              "      <td>unfurnished</td>\n",
              "    </tr>\n",
              "    <tr>\n",
              "      <th>541</th>\n",
              "      <td>1767150</td>\n",
              "      <td>2400</td>\n",
              "      <td>3</td>\n",
              "      <td>1</td>\n",
              "      <td>1</td>\n",
              "      <td>no</td>\n",
              "      <td>no</td>\n",
              "      <td>no</td>\n",
              "      <td>no</td>\n",
              "      <td>no</td>\n",
              "      <td>0</td>\n",
              "      <td>no</td>\n",
              "      <td>semi-furnished</td>\n",
              "    </tr>\n",
              "    <tr>\n",
              "      <th>542</th>\n",
              "      <td>1750000</td>\n",
              "      <td>3620</td>\n",
              "      <td>2</td>\n",
              "      <td>1</td>\n",
              "      <td>1</td>\n",
              "      <td>yes</td>\n",
              "      <td>no</td>\n",
              "      <td>no</td>\n",
              "      <td>no</td>\n",
              "      <td>no</td>\n",
              "      <td>0</td>\n",
              "      <td>no</td>\n",
              "      <td>unfurnished</td>\n",
              "    </tr>\n",
              "    <tr>\n",
              "      <th>543</th>\n",
              "      <td>1750000</td>\n",
              "      <td>2910</td>\n",
              "      <td>3</td>\n",
              "      <td>1</td>\n",
              "      <td>1</td>\n",
              "      <td>no</td>\n",
              "      <td>no</td>\n",
              "      <td>no</td>\n",
              "      <td>no</td>\n",
              "      <td>no</td>\n",
              "      <td>0</td>\n",
              "      <td>no</td>\n",
              "      <td>furnished</td>\n",
              "    </tr>\n",
              "    <tr>\n",
              "      <th>544</th>\n",
              "      <td>1750000</td>\n",
              "      <td>3850</td>\n",
              "      <td>3</td>\n",
              "      <td>1</td>\n",
              "      <td>2</td>\n",
              "      <td>yes</td>\n",
              "      <td>no</td>\n",
              "      <td>no</td>\n",
              "      <td>no</td>\n",
              "      <td>no</td>\n",
              "      <td>0</td>\n",
              "      <td>no</td>\n",
              "      <td>unfurnished</td>\n",
              "    </tr>\n",
              "  </tbody>\n",
              "</table>\n",
              "</div>\n",
              "    <div class=\"colab-df-buttons\">\n",
              "\n",
              "  <div class=\"colab-df-container\">\n",
              "    <button class=\"colab-df-convert\" onclick=\"convertToInteractive('df-f38ca912-1404-4f80-b183-3ec6fe34abba')\"\n",
              "            title=\"Convert this dataframe to an interactive table.\"\n",
              "            style=\"display:none;\">\n",
              "\n",
              "  <svg xmlns=\"http://www.w3.org/2000/svg\" height=\"24px\" viewBox=\"0 -960 960 960\">\n",
              "    <path d=\"M120-120v-720h720v720H120Zm60-500h600v-160H180v160Zm220 220h160v-160H400v160Zm0 220h160v-160H400v160ZM180-400h160v-160H180v160Zm440 0h160v-160H620v160ZM180-180h160v-160H180v160Zm440 0h160v-160H620v160Z\"/>\n",
              "  </svg>\n",
              "    </button>\n",
              "\n",
              "  <style>\n",
              "    .colab-df-container {\n",
              "      display:flex;\n",
              "      gap: 12px;\n",
              "    }\n",
              "\n",
              "    .colab-df-convert {\n",
              "      background-color: #E8F0FE;\n",
              "      border: none;\n",
              "      border-radius: 50%;\n",
              "      cursor: pointer;\n",
              "      display: none;\n",
              "      fill: #1967D2;\n",
              "      height: 32px;\n",
              "      padding: 0 0 0 0;\n",
              "      width: 32px;\n",
              "    }\n",
              "\n",
              "    .colab-df-convert:hover {\n",
              "      background-color: #E2EBFA;\n",
              "      box-shadow: 0px 1px 2px rgba(60, 64, 67, 0.3), 0px 1px 3px 1px rgba(60, 64, 67, 0.15);\n",
              "      fill: #174EA6;\n",
              "    }\n",
              "\n",
              "    .colab-df-buttons div {\n",
              "      margin-bottom: 4px;\n",
              "    }\n",
              "\n",
              "    [theme=dark] .colab-df-convert {\n",
              "      background-color: #3B4455;\n",
              "      fill: #D2E3FC;\n",
              "    }\n",
              "\n",
              "    [theme=dark] .colab-df-convert:hover {\n",
              "      background-color: #434B5C;\n",
              "      box-shadow: 0px 1px 3px 1px rgba(0, 0, 0, 0.15);\n",
              "      filter: drop-shadow(0px 1px 2px rgba(0, 0, 0, 0.3));\n",
              "      fill: #FFFFFF;\n",
              "    }\n",
              "  </style>\n",
              "\n",
              "    <script>\n",
              "      const buttonEl =\n",
              "        document.querySelector('#df-f38ca912-1404-4f80-b183-3ec6fe34abba button.colab-df-convert');\n",
              "      buttonEl.style.display =\n",
              "        google.colab.kernel.accessAllowed ? 'block' : 'none';\n",
              "\n",
              "      async function convertToInteractive(key) {\n",
              "        const element = document.querySelector('#df-f38ca912-1404-4f80-b183-3ec6fe34abba');\n",
              "        const dataTable =\n",
              "          await google.colab.kernel.invokeFunction('convertToInteractive',\n",
              "                                                    [key], {});\n",
              "        if (!dataTable) return;\n",
              "\n",
              "        const docLinkHtml = 'Like what you see? Visit the ' +\n",
              "          '<a target=\"_blank\" href=https://colab.research.google.com/notebooks/data_table.ipynb>data table notebook</a>'\n",
              "          + ' to learn more about interactive tables.';\n",
              "        element.innerHTML = '';\n",
              "        dataTable['output_type'] = 'display_data';\n",
              "        await google.colab.output.renderOutput(dataTable, element);\n",
              "        const docLink = document.createElement('div');\n",
              "        docLink.innerHTML = docLinkHtml;\n",
              "        element.appendChild(docLink);\n",
              "      }\n",
              "    </script>\n",
              "  </div>\n",
              "\n",
              "\n",
              "<div id=\"df-b7c1fa16-76d2-429b-8f5b-9841de1c9702\">\n",
              "  <button class=\"colab-df-quickchart\" onclick=\"quickchart('df-b7c1fa16-76d2-429b-8f5b-9841de1c9702')\"\n",
              "            title=\"Suggest charts\"\n",
              "            style=\"display:none;\">\n",
              "\n",
              "<svg xmlns=\"http://www.w3.org/2000/svg\" height=\"24px\"viewBox=\"0 0 24 24\"\n",
              "     width=\"24px\">\n",
              "    <g>\n",
              "        <path d=\"M19 3H5c-1.1 0-2 .9-2 2v14c0 1.1.9 2 2 2h14c1.1 0 2-.9 2-2V5c0-1.1-.9-2-2-2zM9 17H7v-7h2v7zm4 0h-2V7h2v10zm4 0h-2v-4h2v4z\"/>\n",
              "    </g>\n",
              "</svg>\n",
              "  </button>\n",
              "\n",
              "<style>\n",
              "  .colab-df-quickchart {\n",
              "      --bg-color: #E8F0FE;\n",
              "      --fill-color: #1967D2;\n",
              "      --hover-bg-color: #E2EBFA;\n",
              "      --hover-fill-color: #174EA6;\n",
              "      --disabled-fill-color: #AAA;\n",
              "      --disabled-bg-color: #DDD;\n",
              "  }\n",
              "\n",
              "  [theme=dark] .colab-df-quickchart {\n",
              "      --bg-color: #3B4455;\n",
              "      --fill-color: #D2E3FC;\n",
              "      --hover-bg-color: #434B5C;\n",
              "      --hover-fill-color: #FFFFFF;\n",
              "      --disabled-bg-color: #3B4455;\n",
              "      --disabled-fill-color: #666;\n",
              "  }\n",
              "\n",
              "  .colab-df-quickchart {\n",
              "    background-color: var(--bg-color);\n",
              "    border: none;\n",
              "    border-radius: 50%;\n",
              "    cursor: pointer;\n",
              "    display: none;\n",
              "    fill: var(--fill-color);\n",
              "    height: 32px;\n",
              "    padding: 0;\n",
              "    width: 32px;\n",
              "  }\n",
              "\n",
              "  .colab-df-quickchart:hover {\n",
              "    background-color: var(--hover-bg-color);\n",
              "    box-shadow: 0 1px 2px rgba(60, 64, 67, 0.3), 0 1px 3px 1px rgba(60, 64, 67, 0.15);\n",
              "    fill: var(--button-hover-fill-color);\n",
              "  }\n",
              "\n",
              "  .colab-df-quickchart-complete:disabled,\n",
              "  .colab-df-quickchart-complete:disabled:hover {\n",
              "    background-color: var(--disabled-bg-color);\n",
              "    fill: var(--disabled-fill-color);\n",
              "    box-shadow: none;\n",
              "  }\n",
              "\n",
              "  .colab-df-spinner {\n",
              "    border: 2px solid var(--fill-color);\n",
              "    border-color: transparent;\n",
              "    border-bottom-color: var(--fill-color);\n",
              "    animation:\n",
              "      spin 1s steps(1) infinite;\n",
              "  }\n",
              "\n",
              "  @keyframes spin {\n",
              "    0% {\n",
              "      border-color: transparent;\n",
              "      border-bottom-color: var(--fill-color);\n",
              "      border-left-color: var(--fill-color);\n",
              "    }\n",
              "    20% {\n",
              "      border-color: transparent;\n",
              "      border-left-color: var(--fill-color);\n",
              "      border-top-color: var(--fill-color);\n",
              "    }\n",
              "    30% {\n",
              "      border-color: transparent;\n",
              "      border-left-color: var(--fill-color);\n",
              "      border-top-color: var(--fill-color);\n",
              "      border-right-color: var(--fill-color);\n",
              "    }\n",
              "    40% {\n",
              "      border-color: transparent;\n",
              "      border-right-color: var(--fill-color);\n",
              "      border-top-color: var(--fill-color);\n",
              "    }\n",
              "    60% {\n",
              "      border-color: transparent;\n",
              "      border-right-color: var(--fill-color);\n",
              "    }\n",
              "    80% {\n",
              "      border-color: transparent;\n",
              "      border-right-color: var(--fill-color);\n",
              "      border-bottom-color: var(--fill-color);\n",
              "    }\n",
              "    90% {\n",
              "      border-color: transparent;\n",
              "      border-bottom-color: var(--fill-color);\n",
              "    }\n",
              "  }\n",
              "</style>\n",
              "\n",
              "  <script>\n",
              "    async function quickchart(key) {\n",
              "      const quickchartButtonEl =\n",
              "        document.querySelector('#' + key + ' button');\n",
              "      quickchartButtonEl.disabled = true;  // To prevent multiple clicks.\n",
              "      quickchartButtonEl.classList.add('colab-df-spinner');\n",
              "      try {\n",
              "        const charts = await google.colab.kernel.invokeFunction(\n",
              "            'suggestCharts', [key], {});\n",
              "      } catch (error) {\n",
              "        console.error('Error during call to suggestCharts:', error);\n",
              "      }\n",
              "      quickchartButtonEl.classList.remove('colab-df-spinner');\n",
              "      quickchartButtonEl.classList.add('colab-df-quickchart-complete');\n",
              "    }\n",
              "    (() => {\n",
              "      let quickchartButtonEl =\n",
              "        document.querySelector('#df-b7c1fa16-76d2-429b-8f5b-9841de1c9702 button');\n",
              "      quickchartButtonEl.style.display =\n",
              "        google.colab.kernel.accessAllowed ? 'block' : 'none';\n",
              "    })();\n",
              "  </script>\n",
              "</div>\n",
              "    </div>\n",
              "  </div>\n"
            ]
          },
          "metadata": {},
          "execution_count": 360
        }
      ]
    },
    {
      "cell_type": "code",
      "source": [
        "input_features = ['area', 'bedrooms', 'bathrooms', 'stories', 'parking']\n",
        "output_feature = 'price'"
      ],
      "metadata": {
        "id": "Z0zz6gK_i-p-"
      },
      "execution_count": 361,
      "outputs": []
    },
    {
      "cell_type": "code",
      "source": [
        "scaler_x = MinMaxScaler()\n",
        "scaler_y = MinMaxScaler()\n",
        "df[input_features] = scaler_x.fit_transform(df[input_features])\n",
        "df[[output_feature]] = scaler_y.fit_transform(df[[output_feature]])"
      ],
      "metadata": {
        "id": "LxxXQDdUjzJE"
      },
      "execution_count": 362,
      "outputs": []
    },
    {
      "cell_type": "code",
      "source": [
        "X = df[input_features].values\n",
        "y = df[[output_feature]].values"
      ],
      "metadata": {
        "id": "GwKxfzo5kAT4"
      },
      "execution_count": 363,
      "outputs": []
    },
    {
      "cell_type": "code",
      "source": [
        "X_t = torch.tensor(X)\n",
        "y_t = torch.tensor(y)"
      ],
      "metadata": {
        "id": "xSkl0DIEkDR0"
      },
      "execution_count": 364,
      "outputs": []
    },
    {
      "cell_type": "code",
      "source": [
        "def model(X, W1,W2,W3,W4,W5,B):\n",
        "  return W5*X[:,4] + W4*X[:,3] + W3*X[:,2] + W2*X[:,1] + W1*X[:,0] + B"
      ],
      "metadata": {
        "id": "x8HyJfXIkQxB"
      },
      "execution_count": 365,
      "outputs": []
    },
    {
      "cell_type": "code",
      "source": [
        "np.random.seed(13)\n",
        "train_X, val_X, train_Y, val_Y = train_test_split(X_t, y_t, test_size=0.2, random_state=100)"
      ],
      "metadata": {
        "id": "PfCNZdrJkaBN"
      },
      "execution_count": 366,
      "outputs": []
    },
    {
      "cell_type": "code",
      "source": [
        "train_X.shape, train_Y.shape, val_X.shape, val_Y.shape"
      ],
      "metadata": {
        "colab": {
          "base_uri": "https://localhost:8080/"
        },
        "id": "rI0XLFCzk4c8",
        "outputId": "3a85253b-d6fd-49db-8e0e-fd9ab685b627"
      },
      "execution_count": 367,
      "outputs": [
        {
          "output_type": "execute_result",
          "data": {
            "text/plain": [
              "(torch.Size([436, 5]),\n",
              " torch.Size([436, 1]),\n",
              " torch.Size([109, 5]),\n",
              " torch.Size([109, 1]))"
            ]
          },
          "metadata": {},
          "execution_count": 367
        }
      ]
    },
    {
      "cell_type": "code",
      "source": [
        "train_X.shape, train_Y.shape, val_X.shape, val_Y.shape"
      ],
      "metadata": {
        "colab": {
          "base_uri": "https://localhost:8080/"
        },
        "id": "PGUnhj6CmLzs",
        "outputId": "bf6945e4-f1bb-47fa-e814-5c06e5f18f7c"
      },
      "execution_count": 368,
      "outputs": [
        {
          "output_type": "execute_result",
          "data": {
            "text/plain": [
              "(torch.Size([436, 5]),\n",
              " torch.Size([436, 1]),\n",
              " torch.Size([109, 5]),\n",
              " torch.Size([109, 1]))"
            ]
          },
          "metadata": {},
          "execution_count": 368
        }
      ]
    },
    {
      "cell_type": "code",
      "source": [
        "def training_loop(n_epochs, optimizer, params, X_train, X_val, y_train, y_val):\n",
        "\n",
        "    for epoch in range(1, n_epochs + 1):\n",
        "        y_train_p = model(X_train, *params)\n",
        "        train_loss = loss_fn(y_train_p, y_train)\n",
        "\n",
        "        y_val_p = model(X_train, *params)\n",
        "        val_loss = loss_fn(y_val_p, y_val)\n",
        "\n",
        "        optimizer.zero_grad()\n",
        "        train_loss.backward()\n",
        "        optimizer.step()\n",
        "\n",
        "        if epoch % 500 == 0:\n",
        "            print(f\"Epoch {epoch}, Training loss {train_loss.item():.4f},\"\n",
        "                  f\" Validation loss {val_loss.item():.4f}\")\n",
        "\n",
        "    return params"
      ],
      "metadata": {
        "id": "-lxjZEoCmrv4"
      },
      "execution_count": 369,
      "outputs": []
    },
    {
      "cell_type": "code",
      "source": [
        "params = torch.tensor([1.0, 1.0, 1.0, 1.0, 1.0, 0.0], requires_grad=True)\n",
        "learning_rate = 0.1\n",
        "optimizer = optim.Adam([params], lr=learning_rate)\n",
        "\n",
        "training_loop(\n",
        "    n_epochs = 6000,\n",
        "    optimizer = optimizer,\n",
        "    params = params,\n",
        "    X_train = train_X,\n",
        "    X_val = val_X,\n",
        "    y_train = train_Y,\n",
        "    y_val = val_Y)"
      ],
      "metadata": {
        "colab": {
          "base_uri": "https://localhost:8080/"
        },
        "id": "XfLBLQHHmzK2",
        "outputId": "d68406f3-8c2e-48e3-c6a9-406a0a9efeec"
      },
      "execution_count": 370,
      "outputs": [
        {
          "output_type": "stream",
          "name": "stdout",
          "text": [
            "Epoch 500, Training loss 0.0261, Validation loss 0.0266\n",
            "Epoch 1000, Training loss 0.0261, Validation loss 0.0266\n",
            "Epoch 1500, Training loss 0.0261, Validation loss 0.0266\n",
            "Epoch 2000, Training loss 0.0261, Validation loss 0.0266\n",
            "Epoch 2500, Training loss 0.0261, Validation loss 0.0266\n",
            "Epoch 3000, Training loss 0.0261, Validation loss 0.0266\n",
            "Epoch 3500, Training loss 0.0261, Validation loss 0.0266\n",
            "Epoch 4000, Training loss 0.0261, Validation loss 0.0266\n",
            "Epoch 4500, Training loss 0.0261, Validation loss 0.0266\n",
            "Epoch 5000, Training loss 0.0261, Validation loss 0.0266\n",
            "Epoch 5500, Training loss 0.0261, Validation loss 0.0266\n",
            "Epoch 6000, Training loss 0.0261, Validation loss 0.0266\n"
          ]
        },
        {
          "output_type": "execute_result",
          "data": {
            "text/plain": [
              "tensor([-0.0014, -0.0014, -0.0013, -0.0014, -0.0013,  0.2623],\n",
              "       requires_grad=True)"
            ]
          },
          "metadata": {},
          "execution_count": 370
        }
      ]
    },
    {
      "cell_type": "code",
      "source": [
        "params = torch.tensor([1.0, 1.0, 1.0, 1.0, 1.0, 0.0], requires_grad=True)\n",
        "learning_rate = 0.01\n",
        "optimizer = optim.Adam([params], lr=learning_rate)\n",
        "\n",
        "training_loop(\n",
        "    n_epochs = 6000,\n",
        "    optimizer = optimizer,\n",
        "    params = params,\n",
        "    X_train = train_X,\n",
        "    X_val = val_X,\n",
        "    y_train = train_Y,\n",
        "    y_val = val_Y)"
      ],
      "metadata": {
        "colab": {
          "base_uri": "https://localhost:8080/"
        },
        "id": "REXwLKKim4wE",
        "outputId": "3e7df657-852e-49a8-b5bb-4f3444cae024"
      },
      "execution_count": 371,
      "outputs": [
        {
          "output_type": "stream",
          "name": "stdout",
          "text": [
            "Epoch 500, Training loss 0.0298, Validation loss 0.0301\n",
            "Epoch 1000, Training loss 0.0264, Validation loss 0.0269\n",
            "Epoch 1500, Training loss 0.0261, Validation loss 0.0266\n",
            "Epoch 2000, Training loss 0.0261, Validation loss 0.0266\n",
            "Epoch 2500, Training loss 0.0261, Validation loss 0.0266\n",
            "Epoch 3000, Training loss 0.0261, Validation loss 0.0266\n",
            "Epoch 3500, Training loss 0.0261, Validation loss 0.0266\n",
            "Epoch 4000, Training loss 0.0261, Validation loss 0.0266\n",
            "Epoch 4500, Training loss 0.0261, Validation loss 0.0266\n",
            "Epoch 5000, Training loss 0.0261, Validation loss 0.0266\n",
            "Epoch 5500, Training loss 0.0261, Validation loss 0.0266\n",
            "Epoch 6000, Training loss 0.0261, Validation loss 0.0266\n"
          ]
        },
        {
          "output_type": "execute_result",
          "data": {
            "text/plain": [
              "tensor([ 7.8823e-08,  1.6259e-07, -3.7555e-08, -2.2325e-09,  3.6543e-09,\n",
              "         2.6370e-01], requires_grad=True)"
            ]
          },
          "metadata": {},
          "execution_count": 371
        }
      ]
    },
    {
      "cell_type": "code",
      "source": [
        "params = torch.tensor([1.0, 1.0, 1.0, 1.0, 1.0, 0.0], requires_grad=True)\n",
        "learning_rate = 0.001\n",
        "optimizer = optim.Adam([params], lr=learning_rate)\n",
        "\n",
        "training_loop(\n",
        "    n_epochs = 6000,\n",
        "    optimizer = optimizer,\n",
        "    params = params,\n",
        "    X_train = train_X,\n",
        "    X_val = val_X,\n",
        "    y_train = train_Y,\n",
        "    y_val = val_Y)"
      ],
      "metadata": {
        "colab": {
          "base_uri": "https://localhost:8080/"
        },
        "id": "RBbWvUMEm-Ue",
        "outputId": "c13b68dc-30d0-4a74-fe90-44c1eb5ec631"
      },
      "execution_count": 372,
      "outputs": [
        {
          "output_type": "stream",
          "name": "stdout",
          "text": [
            "Epoch 500, Training loss 0.2111, Validation loss 0.2159\n",
            "Epoch 1000, Training loss 0.1098, Validation loss 0.1093\n",
            "Epoch 1500, Training loss 0.0766, Validation loss 0.0759\n",
            "Epoch 2000, Training loss 0.0532, Validation loss 0.0528\n",
            "Epoch 2500, Training loss 0.0397, Validation loss 0.0396\n",
            "Epoch 3000, Training loss 0.0332, Validation loss 0.0333\n",
            "Epoch 3500, Training loss 0.0302, Validation loss 0.0305\n",
            "Epoch 4000, Training loss 0.0286, Validation loss 0.0290\n",
            "Epoch 4500, Training loss 0.0275, Validation loss 0.0280\n",
            "Epoch 5000, Training loss 0.0268, Validation loss 0.0273\n",
            "Epoch 5500, Training loss 0.0264, Validation loss 0.0269\n",
            "Epoch 6000, Training loss 0.0262, Validation loss 0.0267\n"
          ]
        },
        {
          "output_type": "execute_result",
          "data": {
            "text/plain": [
              "tensor([ 0.0169,  0.0801, -0.0241, -0.0115, -0.0044,  0.2343],\n",
              "       requires_grad=True)"
            ]
          },
          "metadata": {},
          "execution_count": 372
        }
      ]
    },
    {
      "cell_type": "code",
      "source": [
        "params = torch.tensor([1.0, 1.0, 1.0, 1.0, 1.0, 0.0], requires_grad=True)\n",
        "learning_rate = 0.001\n",
        "optimizer = optim.Adam([params], lr=learning_rate)\n",
        "\n",
        "training_loop(\n",
        "    n_epochs = 6000,\n",
        "    optimizer = optimizer,\n",
        "    params = params,\n",
        "    X_train = train_X,\n",
        "    X_val = val_X,\n",
        "    y_train = train_Y,\n",
        "    y_val = val_Y)"
      ],
      "metadata": {
        "colab": {
          "base_uri": "https://localhost:8080/"
        },
        "id": "rPJ-w3j5nDTl",
        "outputId": "563ff8f0-0252-4b1a-e127-b66987a27209"
      },
      "execution_count": 373,
      "outputs": [
        {
          "output_type": "stream",
          "name": "stdout",
          "text": [
            "Epoch 500, Training loss 0.2111, Validation loss 0.2159\n",
            "Epoch 1000, Training loss 0.1098, Validation loss 0.1093\n",
            "Epoch 1500, Training loss 0.0766, Validation loss 0.0759\n",
            "Epoch 2000, Training loss 0.0532, Validation loss 0.0528\n",
            "Epoch 2500, Training loss 0.0397, Validation loss 0.0396\n",
            "Epoch 3000, Training loss 0.0332, Validation loss 0.0333\n",
            "Epoch 3500, Training loss 0.0302, Validation loss 0.0305\n",
            "Epoch 4000, Training loss 0.0286, Validation loss 0.0290\n",
            "Epoch 4500, Training loss 0.0275, Validation loss 0.0280\n",
            "Epoch 5000, Training loss 0.0268, Validation loss 0.0273\n",
            "Epoch 5500, Training loss 0.0264, Validation loss 0.0269\n",
            "Epoch 6000, Training loss 0.0262, Validation loss 0.0267\n"
          ]
        },
        {
          "output_type": "execute_result",
          "data": {
            "text/plain": [
              "tensor([ 0.0169,  0.0801, -0.0241, -0.0115, -0.0044,  0.2343],\n",
              "       requires_grad=True)"
            ]
          },
          "metadata": {},
          "execution_count": 373
        }
      ]
    },
    {
      "cell_type": "code",
      "source": [
        "params = torch.tensor([1.0, 1.0, 1.0, 1.0, 1.0, 0.0], requires_grad=True)\n",
        "learning_rate = 0.1\n",
        "optimizer = optim.SGD([params], lr=learning_rate)\n",
        "\n",
        "training_loop(\n",
        "    n_epochs = 6000,\n",
        "    optimizer = optimizer,\n",
        "    params = params,\n",
        "    X_train = train_X,\n",
        "    X_val = val_X,\n",
        "    y_train = train_Y,\n",
        "    y_val = val_Y)"
      ],
      "metadata": {
        "colab": {
          "base_uri": "https://localhost:8080/"
        },
        "id": "xciiKISvnJOe",
        "outputId": "c514bed5-d106-4889-c848-6b9f0bf9d71e"
      },
      "execution_count": 374,
      "outputs": [
        {
          "output_type": "stream",
          "name": "stdout",
          "text": [
            "Epoch 500, Training loss 0.0266, Validation loss 0.0271\n",
            "Epoch 1000, Training loss 0.0261, Validation loss 0.0266\n",
            "Epoch 1500, Training loss 0.0261, Validation loss 0.0266\n",
            "Epoch 2000, Training loss 0.0261, Validation loss 0.0266\n",
            "Epoch 2500, Training loss 0.0261, Validation loss 0.0266\n",
            "Epoch 3000, Training loss 0.0261, Validation loss 0.0266\n",
            "Epoch 3500, Training loss 0.0261, Validation loss 0.0266\n",
            "Epoch 4000, Training loss 0.0261, Validation loss 0.0266\n",
            "Epoch 4500, Training loss 0.0261, Validation loss 0.0266\n",
            "Epoch 5000, Training loss 0.0261, Validation loss 0.0266\n",
            "Epoch 5500, Training loss 0.0261, Validation loss 0.0266\n",
            "Epoch 6000, Training loss 0.0261, Validation loss 0.0266\n"
          ]
        },
        {
          "output_type": "execute_result",
          "data": {
            "text/plain": [
              "tensor([ 6.6232e-07,  1.3975e-06, -3.3293e-07, -2.2047e-08,  3.0352e-08,\n",
              "         2.6370e-01], requires_grad=True)"
            ]
          },
          "metadata": {},
          "execution_count": 374
        }
      ]
    },
    {
      "cell_type": "code",
      "source": [
        "params = torch.tensor([1.0, 1.0, 1.0, 1.0, 1.0, 0.0], requires_grad=True)\n",
        "learning_rate = 0.01\n",
        "optimizer = optim.SGD([params], lr=learning_rate)\n",
        "\n",
        "training_loop(\n",
        "    n_epochs = 6000,\n",
        "    optimizer = optimizer,\n",
        "    params = params,\n",
        "    X_train = train_X,\n",
        "    X_val = val_X,\n",
        "    y_train = train_Y,\n",
        "    y_val = val_Y)"
      ],
      "metadata": {
        "colab": {
          "base_uri": "https://localhost:8080/"
        },
        "id": "6icRZcXrnMno",
        "outputId": "d7fb7608-f97d-4d5a-b07d-5f6e762f0120"
      },
      "execution_count": 375,
      "outputs": [
        {
          "output_type": "stream",
          "name": "stdout",
          "text": [
            "Epoch 500, Training loss 0.0922, Validation loss 0.0920\n",
            "Epoch 1000, Training loss 0.0476, Validation loss 0.0478\n",
            "Epoch 1500, Training loss 0.0357, Validation loss 0.0360\n",
            "Epoch 2000, Training loss 0.0315, Validation loss 0.0319\n",
            "Epoch 2500, Training loss 0.0295, Validation loss 0.0299\n",
            "Epoch 3000, Training loss 0.0283, Validation loss 0.0288\n",
            "Epoch 3500, Training loss 0.0276, Validation loss 0.0281\n",
            "Epoch 4000, Training loss 0.0271, Validation loss 0.0276\n",
            "Epoch 4500, Training loss 0.0268, Validation loss 0.0273\n",
            "Epoch 5000, Training loss 0.0266, Validation loss 0.0271\n",
            "Epoch 5500, Training loss 0.0264, Validation loss 0.0269\n",
            "Epoch 6000, Training loss 0.0263, Validation loss 0.0269\n"
          ]
        },
        {
          "output_type": "execute_result",
          "data": {
            "text/plain": [
              "tensor([ 0.0752,  0.0904, -0.0139, -0.0208, -0.0203,  0.2219],\n",
              "       requires_grad=True)"
            ]
          },
          "metadata": {},
          "execution_count": 375
        }
      ]
    },
    {
      "cell_type": "code",
      "source": [
        "params = torch.tensor([1.0, 1.0, 1.0, 1.0, 1.0, 0.0], requires_grad=True)\n",
        "learning_rate = 0.001\n",
        "optimizer = optim.SGD([params], lr=learning_rate)\n",
        "\n",
        "training_loop(\n",
        "    n_epochs = 5000,\n",
        "    optimizer = optimizer,\n",
        "    params = params,\n",
        "    X_train = train_X,\n",
        "    X_val = val_X,\n",
        "    y_train = train_Y,\n",
        "    y_val = val_Y)"
      ],
      "metadata": {
        "colab": {
          "base_uri": "https://localhost:8080/"
        },
        "id": "2RdjubuRnRa1",
        "outputId": "1c0e2135-4ce1-4612-e285-4ee3d240131b"
      },
      "execution_count": 376,
      "outputs": [
        {
          "output_type": "stream",
          "name": "stdout",
          "text": [
            "Epoch 500, Training loss 0.3232, Validation loss 0.3289\n",
            "Epoch 1000, Training loss 0.2264, Validation loss 0.2273\n",
            "Epoch 1500, Training loss 0.1961, Validation loss 0.1959\n",
            "Epoch 2000, Training loss 0.1735, Validation loss 0.1730\n",
            "Epoch 2500, Training loss 0.1544, Validation loss 0.1538\n",
            "Epoch 3000, Training loss 0.1379, Validation loss 0.1374\n",
            "Epoch 3500, Training loss 0.1238, Validation loss 0.1234\n",
            "Epoch 4000, Training loss 0.1116, Validation loss 0.1112\n",
            "Epoch 4500, Training loss 0.1011, Validation loss 0.1008\n",
            "Epoch 5000, Training loss 0.0921, Validation loss 0.0919\n"
          ]
        },
        {
          "output_type": "execute_result",
          "data": {
            "text/plain": [
              "tensor([ 0.6256,  0.5395,  0.5578,  0.2359,  0.2905, -0.3159],\n",
              "       requires_grad=True)"
            ]
          },
          "metadata": {},
          "execution_count": 376
        }
      ]
    },
    {
      "cell_type": "code",
      "source": [
        "params = torch.tensor([1.0, 1.0, 1.0, 1.0, 1.0, 0.0], requires_grad=True)\n",
        "learning_rate = 0.0001\n",
        "optimizer = optim.SGD([params], lr=learning_rate)\n",
        "\n",
        "training_loop(\n",
        "    n_epochs = 6000,\n",
        "    optimizer = optimizer,\n",
        "    params = params,\n",
        "    X_train = train_X,\n",
        "    X_val = val_X,\n",
        "    y_train = train_Y,\n",
        "    y_val = val_Y)"
      ],
      "metadata": {
        "colab": {
          "base_uri": "https://localhost:8080/"
        },
        "id": "1woA8GMsnVQJ",
        "outputId": "9dc7f450-faee-46e2-cadb-502ba8c72486"
      },
      "execution_count": 377,
      "outputs": [
        {
          "output_type": "stream",
          "name": "stdout",
          "text": [
            "Epoch 500, Training loss 1.1216, Validation loss 1.1433\n",
            "Epoch 1000, Training loss 0.9167, Validation loss 0.9356\n",
            "Epoch 1500, Training loss 0.7602, Validation loss 0.7766\n",
            "Epoch 2000, Training loss 0.6405, Validation loss 0.6546\n",
            "Epoch 2500, Training loss 0.5487, Validation loss 0.5609\n",
            "Epoch 3000, Training loss 0.4781, Validation loss 0.4886\n",
            "Epoch 3500, Training loss 0.4236, Validation loss 0.4327\n",
            "Epoch 4000, Training loss 0.3815, Validation loss 0.3893\n",
            "Epoch 4500, Training loss 0.3487, Validation loss 0.3554\n",
            "Epoch 5000, Training loss 0.3230, Validation loss 0.3288\n",
            "Epoch 5500, Training loss 0.3028, Validation loss 0.3077\n",
            "Epoch 6000, Training loss 0.2867, Validation loss 0.2908\n"
          ]
        },
        {
          "output_type": "execute_result",
          "data": {
            "text/plain": [
              "tensor([ 0.8212,  0.7316,  0.8784,  0.7245,  0.7529, -0.5410],\n",
              "       requires_grad=True)"
            ]
          },
          "metadata": {},
          "execution_count": 377
        }
      ]
    },
    {
      "cell_type": "code",
      "source": [
        "params = torch.tensor([1.0, 1.0, 1.0, 1.0, 1.0, 0.0], requires_grad=True)\n",
        "learning_rate = 0.0001\n",
        "optimizer = optim.SGD([params], lr=learning_rate)\n",
        "\n",
        "training_loop(\n",
        "    n_epochs = 5000,\n",
        "    optimizer = optimizer,\n",
        "    params = params,\n",
        "    X_train = train_X,\n",
        "    X_val = val_X,\n",
        "    y_train = train_Y,\n",
        "    y_val = val_Y)"
      ],
      "metadata": {
        "colab": {
          "base_uri": "https://localhost:8080/"
        },
        "id": "l2xxCDhLnvX3",
        "outputId": "fb6eaf1f-5634-43dc-8cb0-0baa11b95906"
      },
      "execution_count": 379,
      "outputs": [
        {
          "output_type": "stream",
          "name": "stdout",
          "text": [
            "Epoch 500, Training loss 1.1216, Validation loss 1.1433\n",
            "Epoch 1000, Training loss 0.9167, Validation loss 0.9356\n",
            "Epoch 1500, Training loss 0.7602, Validation loss 0.7766\n",
            "Epoch 2000, Training loss 0.6405, Validation loss 0.6546\n",
            "Epoch 2500, Training loss 0.5487, Validation loss 0.5609\n",
            "Epoch 3000, Training loss 0.4781, Validation loss 0.4886\n",
            "Epoch 3500, Training loss 0.4236, Validation loss 0.4327\n",
            "Epoch 4000, Training loss 0.3815, Validation loss 0.3893\n",
            "Epoch 4500, Training loss 0.3487, Validation loss 0.3554\n",
            "Epoch 5000, Training loss 0.3230, Validation loss 0.3288\n"
          ]
        },
        {
          "output_type": "execute_result",
          "data": {
            "text/plain": [
              "tensor([ 0.8370,  0.7538,  0.8923,  0.7531,  0.7787, -0.5063],\n",
              "       requires_grad=True)"
            ]
          },
          "metadata": {},
          "execution_count": 379
        }
      ]
    },
    {
      "cell_type": "code",
      "source": [
        "df = pd.read_csv('/opt/google/drive/Housing.csv')\n",
        "\n",
        "df.tail()"
      ],
      "metadata": {
        "colab": {
          "base_uri": "https://localhost:8080/",
          "height": 206
        },
        "id": "NrZ7ImXssOU4",
        "outputId": "af04524a-4433-40f0-b1ce-91e082d31c1b"
      },
      "execution_count": 380,
      "outputs": [
        {
          "output_type": "execute_result",
          "data": {
            "text/plain": [
              "       price  area  bedrooms  bathrooms  stories mainroad guestroom basement  \\\n",
              "540  1820000  3000         2          1        1      yes        no      yes   \n",
              "541  1767150  2400         3          1        1       no        no       no   \n",
              "542  1750000  3620         2          1        1      yes        no       no   \n",
              "543  1750000  2910         3          1        1       no        no       no   \n",
              "544  1750000  3850         3          1        2      yes        no       no   \n",
              "\n",
              "    hotwaterheating airconditioning  parking prefarea furnishingstatus  \n",
              "540              no              no        2       no      unfurnished  \n",
              "541              no              no        0       no   semi-furnished  \n",
              "542              no              no        0       no      unfurnished  \n",
              "543              no              no        0       no        furnished  \n",
              "544              no              no        0       no      unfurnished  "
            ],
            "text/html": [
              "\n",
              "  <div id=\"df-301a3196-179b-487f-9fbf-03f734da7110\" class=\"colab-df-container\">\n",
              "    <div>\n",
              "<style scoped>\n",
              "    .dataframe tbody tr th:only-of-type {\n",
              "        vertical-align: middle;\n",
              "    }\n",
              "\n",
              "    .dataframe tbody tr th {\n",
              "        vertical-align: top;\n",
              "    }\n",
              "\n",
              "    .dataframe thead th {\n",
              "        text-align: right;\n",
              "    }\n",
              "</style>\n",
              "<table border=\"1\" class=\"dataframe\">\n",
              "  <thead>\n",
              "    <tr style=\"text-align: right;\">\n",
              "      <th></th>\n",
              "      <th>price</th>\n",
              "      <th>area</th>\n",
              "      <th>bedrooms</th>\n",
              "      <th>bathrooms</th>\n",
              "      <th>stories</th>\n",
              "      <th>mainroad</th>\n",
              "      <th>guestroom</th>\n",
              "      <th>basement</th>\n",
              "      <th>hotwaterheating</th>\n",
              "      <th>airconditioning</th>\n",
              "      <th>parking</th>\n",
              "      <th>prefarea</th>\n",
              "      <th>furnishingstatus</th>\n",
              "    </tr>\n",
              "  </thead>\n",
              "  <tbody>\n",
              "    <tr>\n",
              "      <th>540</th>\n",
              "      <td>1820000</td>\n",
              "      <td>3000</td>\n",
              "      <td>2</td>\n",
              "      <td>1</td>\n",
              "      <td>1</td>\n",
              "      <td>yes</td>\n",
              "      <td>no</td>\n",
              "      <td>yes</td>\n",
              "      <td>no</td>\n",
              "      <td>no</td>\n",
              "      <td>2</td>\n",
              "      <td>no</td>\n",
              "      <td>unfurnished</td>\n",
              "    </tr>\n",
              "    <tr>\n",
              "      <th>541</th>\n",
              "      <td>1767150</td>\n",
              "      <td>2400</td>\n",
              "      <td>3</td>\n",
              "      <td>1</td>\n",
              "      <td>1</td>\n",
              "      <td>no</td>\n",
              "      <td>no</td>\n",
              "      <td>no</td>\n",
              "      <td>no</td>\n",
              "      <td>no</td>\n",
              "      <td>0</td>\n",
              "      <td>no</td>\n",
              "      <td>semi-furnished</td>\n",
              "    </tr>\n",
              "    <tr>\n",
              "      <th>542</th>\n",
              "      <td>1750000</td>\n",
              "      <td>3620</td>\n",
              "      <td>2</td>\n",
              "      <td>1</td>\n",
              "      <td>1</td>\n",
              "      <td>yes</td>\n",
              "      <td>no</td>\n",
              "      <td>no</td>\n",
              "      <td>no</td>\n",
              "      <td>no</td>\n",
              "      <td>0</td>\n",
              "      <td>no</td>\n",
              "      <td>unfurnished</td>\n",
              "    </tr>\n",
              "    <tr>\n",
              "      <th>543</th>\n",
              "      <td>1750000</td>\n",
              "      <td>2910</td>\n",
              "      <td>3</td>\n",
              "      <td>1</td>\n",
              "      <td>1</td>\n",
              "      <td>no</td>\n",
              "      <td>no</td>\n",
              "      <td>no</td>\n",
              "      <td>no</td>\n",
              "      <td>no</td>\n",
              "      <td>0</td>\n",
              "      <td>no</td>\n",
              "      <td>furnished</td>\n",
              "    </tr>\n",
              "    <tr>\n",
              "      <th>544</th>\n",
              "      <td>1750000</td>\n",
              "      <td>3850</td>\n",
              "      <td>3</td>\n",
              "      <td>1</td>\n",
              "      <td>2</td>\n",
              "      <td>yes</td>\n",
              "      <td>no</td>\n",
              "      <td>no</td>\n",
              "      <td>no</td>\n",
              "      <td>no</td>\n",
              "      <td>0</td>\n",
              "      <td>no</td>\n",
              "      <td>unfurnished</td>\n",
              "    </tr>\n",
              "  </tbody>\n",
              "</table>\n",
              "</div>\n",
              "    <div class=\"colab-df-buttons\">\n",
              "\n",
              "  <div class=\"colab-df-container\">\n",
              "    <button class=\"colab-df-convert\" onclick=\"convertToInteractive('df-301a3196-179b-487f-9fbf-03f734da7110')\"\n",
              "            title=\"Convert this dataframe to an interactive table.\"\n",
              "            style=\"display:none;\">\n",
              "\n",
              "  <svg xmlns=\"http://www.w3.org/2000/svg\" height=\"24px\" viewBox=\"0 -960 960 960\">\n",
              "    <path d=\"M120-120v-720h720v720H120Zm60-500h600v-160H180v160Zm220 220h160v-160H400v160Zm0 220h160v-160H400v160ZM180-400h160v-160H180v160Zm440 0h160v-160H620v160ZM180-180h160v-160H180v160Zm440 0h160v-160H620v160Z\"/>\n",
              "  </svg>\n",
              "    </button>\n",
              "\n",
              "  <style>\n",
              "    .colab-df-container {\n",
              "      display:flex;\n",
              "      gap: 12px;\n",
              "    }\n",
              "\n",
              "    .colab-df-convert {\n",
              "      background-color: #E8F0FE;\n",
              "      border: none;\n",
              "      border-radius: 50%;\n",
              "      cursor: pointer;\n",
              "      display: none;\n",
              "      fill: #1967D2;\n",
              "      height: 32px;\n",
              "      padding: 0 0 0 0;\n",
              "      width: 32px;\n",
              "    }\n",
              "\n",
              "    .colab-df-convert:hover {\n",
              "      background-color: #E2EBFA;\n",
              "      box-shadow: 0px 1px 2px rgba(60, 64, 67, 0.3), 0px 1px 3px 1px rgba(60, 64, 67, 0.15);\n",
              "      fill: #174EA6;\n",
              "    }\n",
              "\n",
              "    .colab-df-buttons div {\n",
              "      margin-bottom: 4px;\n",
              "    }\n",
              "\n",
              "    [theme=dark] .colab-df-convert {\n",
              "      background-color: #3B4455;\n",
              "      fill: #D2E3FC;\n",
              "    }\n",
              "\n",
              "    [theme=dark] .colab-df-convert:hover {\n",
              "      background-color: #434B5C;\n",
              "      box-shadow: 0px 1px 3px 1px rgba(0, 0, 0, 0.15);\n",
              "      filter: drop-shadow(0px 1px 2px rgba(0, 0, 0, 0.3));\n",
              "      fill: #FFFFFF;\n",
              "    }\n",
              "  </style>\n",
              "\n",
              "    <script>\n",
              "      const buttonEl =\n",
              "        document.querySelector('#df-301a3196-179b-487f-9fbf-03f734da7110 button.colab-df-convert');\n",
              "      buttonEl.style.display =\n",
              "        google.colab.kernel.accessAllowed ? 'block' : 'none';\n",
              "\n",
              "      async function convertToInteractive(key) {\n",
              "        const element = document.querySelector('#df-301a3196-179b-487f-9fbf-03f734da7110');\n",
              "        const dataTable =\n",
              "          await google.colab.kernel.invokeFunction('convertToInteractive',\n",
              "                                                    [key], {});\n",
              "        if (!dataTable) return;\n",
              "\n",
              "        const docLinkHtml = 'Like what you see? Visit the ' +\n",
              "          '<a target=\"_blank\" href=https://colab.research.google.com/notebooks/data_table.ipynb>data table notebook</a>'\n",
              "          + ' to learn more about interactive tables.';\n",
              "        element.innerHTML = '';\n",
              "        dataTable['output_type'] = 'display_data';\n",
              "        await google.colab.output.renderOutput(dataTable, element);\n",
              "        const docLink = document.createElement('div');\n",
              "        docLink.innerHTML = docLinkHtml;\n",
              "        element.appendChild(docLink);\n",
              "      }\n",
              "    </script>\n",
              "  </div>\n",
              "\n",
              "\n",
              "<div id=\"df-333f2f97-38c6-40dd-89d5-db0d9a0a8545\">\n",
              "  <button class=\"colab-df-quickchart\" onclick=\"quickchart('df-333f2f97-38c6-40dd-89d5-db0d9a0a8545')\"\n",
              "            title=\"Suggest charts\"\n",
              "            style=\"display:none;\">\n",
              "\n",
              "<svg xmlns=\"http://www.w3.org/2000/svg\" height=\"24px\"viewBox=\"0 0 24 24\"\n",
              "     width=\"24px\">\n",
              "    <g>\n",
              "        <path d=\"M19 3H5c-1.1 0-2 .9-2 2v14c0 1.1.9 2 2 2h14c1.1 0 2-.9 2-2V5c0-1.1-.9-2-2-2zM9 17H7v-7h2v7zm4 0h-2V7h2v10zm4 0h-2v-4h2v4z\"/>\n",
              "    </g>\n",
              "</svg>\n",
              "  </button>\n",
              "\n",
              "<style>\n",
              "  .colab-df-quickchart {\n",
              "      --bg-color: #E8F0FE;\n",
              "      --fill-color: #1967D2;\n",
              "      --hover-bg-color: #E2EBFA;\n",
              "      --hover-fill-color: #174EA6;\n",
              "      --disabled-fill-color: #AAA;\n",
              "      --disabled-bg-color: #DDD;\n",
              "  }\n",
              "\n",
              "  [theme=dark] .colab-df-quickchart {\n",
              "      --bg-color: #3B4455;\n",
              "      --fill-color: #D2E3FC;\n",
              "      --hover-bg-color: #434B5C;\n",
              "      --hover-fill-color: #FFFFFF;\n",
              "      --disabled-bg-color: #3B4455;\n",
              "      --disabled-fill-color: #666;\n",
              "  }\n",
              "\n",
              "  .colab-df-quickchart {\n",
              "    background-color: var(--bg-color);\n",
              "    border: none;\n",
              "    border-radius: 50%;\n",
              "    cursor: pointer;\n",
              "    display: none;\n",
              "    fill: var(--fill-color);\n",
              "    height: 32px;\n",
              "    padding: 0;\n",
              "    width: 32px;\n",
              "  }\n",
              "\n",
              "  .colab-df-quickchart:hover {\n",
              "    background-color: var(--hover-bg-color);\n",
              "    box-shadow: 0 1px 2px rgba(60, 64, 67, 0.3), 0 1px 3px 1px rgba(60, 64, 67, 0.15);\n",
              "    fill: var(--button-hover-fill-color);\n",
              "  }\n",
              "\n",
              "  .colab-df-quickchart-complete:disabled,\n",
              "  .colab-df-quickchart-complete:disabled:hover {\n",
              "    background-color: var(--disabled-bg-color);\n",
              "    fill: var(--disabled-fill-color);\n",
              "    box-shadow: none;\n",
              "  }\n",
              "\n",
              "  .colab-df-spinner {\n",
              "    border: 2px solid var(--fill-color);\n",
              "    border-color: transparent;\n",
              "    border-bottom-color: var(--fill-color);\n",
              "    animation:\n",
              "      spin 1s steps(1) infinite;\n",
              "  }\n",
              "\n",
              "  @keyframes spin {\n",
              "    0% {\n",
              "      border-color: transparent;\n",
              "      border-bottom-color: var(--fill-color);\n",
              "      border-left-color: var(--fill-color);\n",
              "    }\n",
              "    20% {\n",
              "      border-color: transparent;\n",
              "      border-left-color: var(--fill-color);\n",
              "      border-top-color: var(--fill-color);\n",
              "    }\n",
              "    30% {\n",
              "      border-color: transparent;\n",
              "      border-left-color: var(--fill-color);\n",
              "      border-top-color: var(--fill-color);\n",
              "      border-right-color: var(--fill-color);\n",
              "    }\n",
              "    40% {\n",
              "      border-color: transparent;\n",
              "      border-right-color: var(--fill-color);\n",
              "      border-top-color: var(--fill-color);\n",
              "    }\n",
              "    60% {\n",
              "      border-color: transparent;\n",
              "      border-right-color: var(--fill-color);\n",
              "    }\n",
              "    80% {\n",
              "      border-color: transparent;\n",
              "      border-right-color: var(--fill-color);\n",
              "      border-bottom-color: var(--fill-color);\n",
              "    }\n",
              "    90% {\n",
              "      border-color: transparent;\n",
              "      border-bottom-color: var(--fill-color);\n",
              "    }\n",
              "  }\n",
              "</style>\n",
              "\n",
              "  <script>\n",
              "    async function quickchart(key) {\n",
              "      const quickchartButtonEl =\n",
              "        document.querySelector('#' + key + ' button');\n",
              "      quickchartButtonEl.disabled = true;  // To prevent multiple clicks.\n",
              "      quickchartButtonEl.classList.add('colab-df-spinner');\n",
              "      try {\n",
              "        const charts = await google.colab.kernel.invokeFunction(\n",
              "            'suggestCharts', [key], {});\n",
              "      } catch (error) {\n",
              "        console.error('Error during call to suggestCharts:', error);\n",
              "      }\n",
              "      quickchartButtonEl.classList.remove('colab-df-spinner');\n",
              "      quickchartButtonEl.classList.add('colab-df-quickchart-complete');\n",
              "    }\n",
              "    (() => {\n",
              "      let quickchartButtonEl =\n",
              "        document.querySelector('#df-333f2f97-38c6-40dd-89d5-db0d9a0a8545 button');\n",
              "      quickchartButtonEl.style.display =\n",
              "        google.colab.kernel.accessAllowed ? 'block' : 'none';\n",
              "    })();\n",
              "  </script>\n",
              "</div>\n",
              "    </div>\n",
              "  </div>\n"
            ]
          },
          "metadata": {},
          "execution_count": 380
        }
      ]
    },
    {
      "cell_type": "code",
      "source": [
        "binary_columns = ['mainroad', 'guestroom', 'basement', 'hotwaterheating', 'airconditioning', 'prefarea']"
      ],
      "metadata": {
        "id": "g0xnoqZHsxC8"
      },
      "execution_count": 390,
      "outputs": []
    },
    {
      "cell_type": "code",
      "source": [
        "df[binary_columns] = df[binary_columns].replace({'yes': 1, 'no': 0})"
      ],
      "metadata": {
        "id": "rMQ-g77qs4Kc"
      },
      "execution_count": 391,
      "outputs": []
    },
    {
      "cell_type": "code",
      "source": [],
      "metadata": {
        "id": "7bWkQGE-s8zQ"
      },
      "execution_count": 396,
      "outputs": []
    },
    {
      "cell_type": "code",
      "source": [
        "X = df.drop('price', axis = 1)\n",
        "y = df[['price']]"
      ],
      "metadata": {
        "id": "HDtb6AmWtBpO"
      },
      "execution_count": 397,
      "outputs": []
    },
    {
      "cell_type": "code",
      "source": [
        "scalar = MinMaxScaler()\n",
        "scalar_out = MinMaxScaler()\n",
        "X = scalar.fit_transform(X)\n",
        "y = scalar_out.fit_transform(y)"
      ],
      "metadata": {
        "id": "o-SgWaVItLEc"
      },
      "execution_count": 398,
      "outputs": []
    },
    {
      "cell_type": "code",
      "source": [
        "np.random.seed(13)\n",
        "train_X, val_X, train_Y, val_Y = train_test_split(X, y, test_size=0.2, random_state=100)"
      ],
      "metadata": {
        "id": "o0Xe20TXtPtd"
      },
      "execution_count": 400,
      "outputs": []
    },
    {
      "cell_type": "code",
      "source": [
        "X_train = torch.tensor(train_X)\n",
        "Y_train = torch.tensor(train_Y)\n",
        "X_test = torch.tensor(val_X)\n",
        "Y_test = torch.tensor(val_Y)"
      ],
      "metadata": {
        "id": "uigBvhrntS5q"
      },
      "execution_count": 401,
      "outputs": []
    },
    {
      "cell_type": "code",
      "source": [
        "def model(X, W1, W2, W3, W4, W5, W6, W7, W8, W9, W10, W11, W12, B):\n",
        "    return (W12*X[:,11] + W11*X[:,10] + W10*X[:,9] + W9*X[:,8] +\n",
        "            W8*X[:,7] + W7*X[:,6] + W6*X[:,5] + W5*X[:,4] +\n",
        "            W4*X[:,3] + W3*X[:,2] + W2*X[:,1] + W1*X[:,0] + B)"
      ],
      "metadata": {
        "id": "r0uhW3xntZG_"
      },
      "execution_count": 402,
      "outputs": []
    },
    {
      "cell_type": "code",
      "source": [
        "params = torch.tensor([1.0, 1.0, 1.0, 1.0, 1.0, 1.0, 1.0, 1.0, 1.0, 1.0, 1.0, 1.0, 0.0], requires_grad=True)\n",
        "learning_rate = 0.1\n",
        "optimizer = optim.Adam([params], lr=learning_rate)\n",
        "\n",
        "training_loop(\n",
        "    n_epochs = 5000,\n",
        "    optimizer = optimizer,\n",
        "    params = params,\n",
        "    X_train = X_train,\n",
        "    X_val = X_test,\n",
        "    y_train = Y_train,\n",
        "    y_val = Y_test)"
      ],
      "metadata": {
        "colab": {
          "base_uri": "https://localhost:8080/"
        },
        "id": "jdejXtkftc-5",
        "outputId": "fdd0ab93-1aaa-47af-c6e4-f9d08662dccc"
      },
      "execution_count": 403,
      "outputs": [
        {
          "output_type": "stream",
          "name": "stdout",
          "text": [
            "Epoch 500, Training loss 0.0261, Validation loss 0.0266\n",
            "Epoch 1000, Training loss 0.0261, Validation loss 0.0266\n",
            "Epoch 1500, Training loss 0.0261, Validation loss 0.0266\n",
            "Epoch 2000, Training loss 0.0261, Validation loss 0.0266\n",
            "Epoch 2500, Training loss 0.0261, Validation loss 0.0266\n",
            "Epoch 3000, Training loss 0.0261, Validation loss 0.0266\n",
            "Epoch 3500, Training loss 0.0261, Validation loss 0.0266\n",
            "Epoch 4000, Training loss 0.0261, Validation loss 0.0266\n",
            "Epoch 4500, Training loss 0.0261, Validation loss 0.0266\n",
            "Epoch 5000, Training loss 0.0261, Validation loss 0.0266\n"
          ]
        },
        {
          "output_type": "execute_result",
          "data": {
            "text/plain": [
              "tensor([-6.6333e-10, -2.8577e-09,  5.0130e-10,  1.9384e-10, -9.7802e-10,\n",
              "         5.4727e-11, -9.7130e-11, -7.5999e-11, -6.0996e-11,  9.2391e-11,\n",
              "         6.2088e-11, -2.7111e-11,  2.6370e-01], requires_grad=True)"
            ]
          },
          "metadata": {},
          "execution_count": 403
        }
      ]
    },
    {
      "cell_type": "code",
      "source": [
        "params = torch.tensor([1.0, 1.0, 1.0, 1.0, 1.0, 1.0, 1.0, 1.0, 1.0, 1.0, 1.0, 1.0, 0.0], requires_grad=True)\n",
        "learning_rate = 0.1\n",
        "optimizer = optim.SGD([params], lr=learning_rate)\n",
        "\n",
        "training_loop(\n",
        "    n_epochs = 5000,\n",
        "    optimizer = optimizer,\n",
        "    params = params,\n",
        "    X_train = X_train,\n",
        "    X_val = X_test,\n",
        "    y_train = Y_train,\n",
        "    y_val = Y_test)"
      ],
      "metadata": {
        "colab": {
          "base_uri": "https://localhost:8080/"
        },
        "id": "5yNwzYY7thBe",
        "outputId": "37375856-0ac4-4700-cfc8-39b6bde984f1"
      },
      "execution_count": 404,
      "outputs": [
        {
          "output_type": "stream",
          "name": "stdout",
          "text": [
            "Epoch 500, Training loss 0.0266, Validation loss 0.0271\n",
            "Epoch 1000, Training loss 0.0261, Validation loss 0.0266\n",
            "Epoch 1500, Training loss 0.0261, Validation loss 0.0266\n",
            "Epoch 2000, Training loss 0.0261, Validation loss 0.0266\n",
            "Epoch 2500, Training loss 0.0261, Validation loss 0.0266\n",
            "Epoch 3000, Training loss 0.0261, Validation loss 0.0266\n",
            "Epoch 3500, Training loss 0.0261, Validation loss 0.0266\n",
            "Epoch 4000, Training loss 0.0261, Validation loss 0.0266\n",
            "Epoch 4500, Training loss 0.0261, Validation loss 0.0266\n",
            "Epoch 5000, Training loss 0.0261, Validation loss 0.0266\n"
          ]
        },
        {
          "output_type": "execute_result",
          "data": {
            "text/plain": [
              "tensor([ 3.2276e-07,  2.4557e-06, -7.2848e-07, -2.7799e-07,  5.1691e-07,\n",
              "        -4.1181e-09,  2.7520e-10,  4.8747e-08,  5.8231e-08, -9.2349e-08,\n",
              "        -2.7086e-08,  1.6358e-08,  2.6370e-01], requires_grad=True)"
            ]
          },
          "metadata": {},
          "execution_count": 404
        }
      ]
    },
    {
      "cell_type": "code",
      "source": [
        "params = torch.tensor([1.0, 1.0, 1.0, 1.0, 1.0, 1.0, 1.0, 1.0, 1.0, 1.0, 1.0, 1.0, 0.0], requires_grad=True)\n",
        "learning_rate = 0.01\n",
        "optimizer = optim.Adam([params], lr=learning_rate)\n",
        "\n",
        "training_loop(\n",
        "    n_epochs = 5000,\n",
        "    optimizer = optimizer,\n",
        "    params = params,\n",
        "    X_train = X_train,\n",
        "    X_val = X_test,\n",
        "    y_train = Y_train,\n",
        "    y_val = Y_test)"
      ],
      "metadata": {
        "colab": {
          "base_uri": "https://localhost:8080/"
        },
        "id": "xFSFrKHGtmCp",
        "outputId": "a2d02b97-7ee8-4788-c2c0-fce3c7979fee"
      },
      "execution_count": 405,
      "outputs": [
        {
          "output_type": "stream",
          "name": "stdout",
          "text": [
            "Epoch 500, Training loss 0.0589, Validation loss 0.0583\n",
            "Epoch 1000, Training loss 0.0357, Validation loss 0.0358\n",
            "Epoch 1500, Training loss 0.0291, Validation loss 0.0295\n",
            "Epoch 2000, Training loss 0.0270, Validation loss 0.0274\n",
            "Epoch 2500, Training loss 0.0263, Validation loss 0.0268\n",
            "Epoch 3000, Training loss 0.0261, Validation loss 0.0266\n",
            "Epoch 3500, Training loss 0.0261, Validation loss 0.0266\n",
            "Epoch 4000, Training loss 0.0261, Validation loss 0.0266\n",
            "Epoch 4500, Training loss 0.0261, Validation loss 0.0266\n",
            "Epoch 5000, Training loss 0.0261, Validation loss 0.0266\n"
          ]
        },
        {
          "output_type": "execute_result",
          "data": {
            "text/plain": [
              "tensor([-1.2838e-07,  1.5108e-05, -3.0936e-06, -2.8233e-06,  2.2201e-06,\n",
              "         7.8887e-08, -5.0029e-07,  4.3964e-08,  3.3469e-07, -8.1730e-07,\n",
              "        -2.8729e-08,  4.2416e-08,  2.6369e-01], requires_grad=True)"
            ]
          },
          "metadata": {},
          "execution_count": 405
        }
      ]
    },
    {
      "cell_type": "code",
      "source": [
        "params = torch.tensor([1.0, 1.0, 1.0, 1.0, 1.0, 1.0, 1.0, 1.0, 1.0, 1.0, 1.0, 1.0, 0.0], requires_grad=True)\n",
        "learning_rate = 0.01\n",
        "optimizer = optim.SGD([params], lr=learning_rate)\n",
        "\n",
        "training_loop(\n",
        "    n_epochs = 5000,\n",
        "    optimizer = optimizer,\n",
        "    params = params,\n",
        "    X_train = X_train,\n",
        "    X_val = X_test,\n",
        "    y_train = Y_train,\n",
        "    y_val = Y_test)\n"
      ],
      "metadata": {
        "colab": {
          "base_uri": "https://localhost:8080/"
        },
        "id": "dH5IM7FntrZj",
        "outputId": "7c2ea5dc-7c32-4c90-8d17-253ea5b380a6"
      },
      "execution_count": 406,
      "outputs": [
        {
          "output_type": "stream",
          "name": "stdout",
          "text": [
            "Epoch 500, Training loss 0.1091, Validation loss 0.1086\n",
            "Epoch 1000, Training loss 0.0512, Validation loss 0.0513\n",
            "Epoch 1500, Training loss 0.0365, Validation loss 0.0368\n",
            "Epoch 2000, Training loss 0.0314, Validation loss 0.0318\n",
            "Epoch 2500, Training loss 0.0292, Validation loss 0.0297\n",
            "Epoch 3000, Training loss 0.0281, Validation loss 0.0286\n",
            "Epoch 3500, Training loss 0.0275, Validation loss 0.0279\n",
            "Epoch 4000, Training loss 0.0270, Validation loss 0.0275\n",
            "Epoch 4500, Training loss 0.0268, Validation loss 0.0273\n",
            "Epoch 5000, Training loss 0.0266, Validation loss 0.0271\n"
          ]
        },
        {
          "output_type": "execute_result",
          "data": {
            "text/plain": [
              "tensor([ 0.0988,  0.1282, -0.0022, -0.0337,  0.0057, -0.0051, -0.0059,  0.0025,\n",
              "        -0.0004, -0.0288, -0.0043, -0.0031,  0.2055], requires_grad=True)"
            ]
          },
          "metadata": {},
          "execution_count": 406
        }
      ]
    },
    {
      "cell_type": "code",
      "source": [
        "params = torch.tensor([1.0, 1.0, 1.0, 1.0, 1.0, 1.0, 1.0, 1.0, 1.0, 1.0, 1.0, 1.0, 0.0], requires_grad=True)\n",
        "learning_rate = 0.001\n",
        "optimizer = optim.Adam([params], lr=learning_rate)\n",
        "\n",
        "training_loop(\n",
        "    n_epochs = 5000,\n",
        "    optimizer = optimizer,\n",
        "    params = params,\n",
        "    X_train = X_train,\n",
        "    X_val = X_test,\n",
        "    y_train = Y_train,\n",
        "    y_val = Y_test)"
      ],
      "metadata": {
        "colab": {
          "base_uri": "https://localhost:8080/"
        },
        "id": "ql1gOJ14tvKY",
        "outputId": "16b8bb22-08c3-4104-a6d3-26f4d91bd5d5"
      },
      "execution_count": 407,
      "outputs": [
        {
          "output_type": "stream",
          "name": "stdout",
          "text": [
            "Epoch 500, Training loss 2.7549, Validation loss 2.7894\n",
            "Epoch 1000, Training loss 0.4335, Validation loss 0.4421\n",
            "Epoch 1500, Training loss 0.1705, Validation loss 0.1700\n",
            "Epoch 2000, Training loss 0.1278, Validation loss 0.1260\n",
            "Epoch 2500, Training loss 0.0987, Validation loss 0.0972\n",
            "Epoch 3000, Training loss 0.0774, Validation loss 0.0763\n",
            "Epoch 3500, Training loss 0.0629, Validation loss 0.0621\n",
            "Epoch 4000, Training loss 0.0531, Validation loss 0.0526\n",
            "Epoch 4500, Training loss 0.0460, Validation loss 0.0458\n",
            "Epoch 5000, Training loss 0.0405, Validation loss 0.0405\n"
          ]
        },
        {
          "output_type": "execute_result",
          "data": {
            "text/plain": [
              "tensor([ 0.1902,  0.4397, -0.0815,  0.0238,  0.2575, -0.0340,  0.0422,  0.0021,\n",
              "        -0.0081, -0.0128, -0.0361, -0.0066, -0.1899], requires_grad=True)"
            ]
          },
          "metadata": {},
          "execution_count": 407
        }
      ]
    },
    {
      "cell_type": "code",
      "source": [
        "params = torch.tensor([1.0, 1.0, 1.0, 1.0, 1.0, 1.0, 1.0, 1.0, 1.0, 1.0, 1.0, 1.0, 0.0], requires_grad=True)\n",
        "learning_rate = 0.001\n",
        "optimizer = optim.SGD([params], lr=learning_rate)\n",
        "training_loop(\n",
        "    n_epochs = 5000,\n",
        "    optimizer = optimizer,\n",
        "    params = params,\n",
        "    X_train = X_train,\n",
        "    X_val = X_test,\n",
        "    y_train = Y_train,\n",
        "    y_val = Y_test)"
      ],
      "metadata": {
        "colab": {
          "base_uri": "https://localhost:8080/"
        },
        "id": "pCB1ejWLtyMs",
        "outputId": "9ad63818-cf8e-4fb8-d589-262de6042f8f"
      },
      "execution_count": 408,
      "outputs": [
        {
          "output_type": "stream",
          "name": "stdout",
          "text": [
            "Epoch 500, Training loss 0.7231, Validation loss 0.7263\n",
            "Epoch 1000, Training loss 0.4842, Validation loss 0.4821\n",
            "Epoch 1500, Training loss 0.3680, Validation loss 0.3659\n",
            "Epoch 2000, Training loss 0.2883, Validation loss 0.2866\n",
            "Epoch 2500, Training loss 0.2324, Validation loss 0.2310\n",
            "Epoch 3000, Training loss 0.1922, Validation loss 0.1910\n",
            "Epoch 3500, Training loss 0.1625, Validation loss 0.1615\n",
            "Epoch 4000, Training loss 0.1401, Validation loss 0.1393\n",
            "Epoch 4500, Training loss 0.1227, Validation loss 0.1221\n",
            "Epoch 5000, Training loss 0.1090, Validation loss 0.1085\n"
          ]
        },
        {
          "output_type": "execute_result",
          "data": {
            "text/plain": [
              "tensor([ 0.5149,  0.4793,  0.4926,  0.2108,  0.1239,  0.0768,  0.0355,  0.5655,\n",
              "        -0.0415,  0.2306,  0.0610,  0.0369, -0.4248], requires_grad=True)"
            ]
          },
          "metadata": {},
          "execution_count": 408
        }
      ]
    },
    {
      "cell_type": "code",
      "source": [
        "params = torch.tensor([1.0, 1.0, 1.0, 1.0, 1.0, 1.0, 1.0, 1.0, 1.0, 1.0, 1.0, 1.0, 0.0], requires_grad=True)\n",
        "learning_rate = 0.0001\n",
        "optimizer = optim.Adam([params], lr=learning_rate)\n",
        "\n",
        "training_loop(\n",
        "    n_epochs = 5000,\n",
        "    optimizer = optimizer,\n",
        "    params = params,\n",
        "    X_train = X_train,\n",
        "    X_val = X_test,\n",
        "    y_train = Y_train,\n",
        "    y_val = Y_test)"
      ],
      "metadata": {
        "colab": {
          "base_uri": "https://localhost:8080/"
        },
        "id": "FZ61fVlTt2p2",
        "outputId": "92ee9e91-6654-44f8-c118-a554104aeb74"
      },
      "execution_count": 409,
      "outputs": [
        {
          "output_type": "stream",
          "name": "stdout",
          "text": [
            "Epoch 500, Training loss 11.4071, Validation loss 11.4828\n",
            "Epoch 1000, Training loss 9.9342, Validation loss 10.0045\n",
            "Epoch 1500, Training loss 8.6005, Validation loss 8.6656\n",
            "Epoch 2000, Training loss 7.3940, Validation loss 7.4540\n",
            "Epoch 2500, Training loss 6.3052, Validation loss 6.3602\n",
            "Epoch 3000, Training loss 5.3262, Validation loss 5.3763\n",
            "Epoch 3500, Training loss 4.4505, Validation loss 4.4959\n",
            "Epoch 4000, Training loss 3.6729, Validation loss 3.7136\n",
            "Epoch 4500, Training loss 2.9887, Validation loss 3.0248\n",
            "Epoch 5000, Training loss 2.3937, Validation loss 2.4254\n"
          ]
        },
        {
          "output_type": "execute_result",
          "data": {
            "text/plain": [
              "tensor([ 0.5594,  0.5611,  0.5560,  0.5584,  0.5607,  0.5538,  0.5564,  0.5574,\n",
              "         0.5553,  0.5578,  0.5549,  0.5555, -0.4371], requires_grad=True)"
            ]
          },
          "metadata": {},
          "execution_count": 409
        }
      ]
    },
    {
      "cell_type": "code",
      "source": [
        "params = torch.tensor([1.0, 1.0, 1.0, 1.0, 1.0, 1.0, 1.0, 1.0, 1.0, 1.0, 1.0, 1.0, 0.0], requires_grad=True)\n",
        "learning_rate = 0.0001\n",
        "optimizer = optim.SGD([params], lr=learning_rate)\n",
        "\n",
        "training_loop(\n",
        "    n_epochs = 5000,\n",
        "    optimizer = optimizer,\n",
        "    params = params,\n",
        "    X_train = X_train,\n",
        "    X_val = X_test,\n",
        "    y_train = Y_train,\n",
        "    y_val = Y_test)"
      ],
      "metadata": {
        "colab": {
          "base_uri": "https://localhost:8080/"
        },
        "id": "XGwWFXa0t55y",
        "outputId": "cb3f8ba6-af13-49f0-a712-9f0d93d524c1"
      },
      "execution_count": 410,
      "outputs": [
        {
          "output_type": "stream",
          "name": "stdout",
          "text": [
            "Epoch 500, Training loss 8.1016, Validation loss 8.1635\n",
            "Epoch 1000, Training loss 5.1495, Validation loss 5.1964\n",
            "Epoch 1500, Training loss 3.3817, Validation loss 3.4172\n",
            "Epoch 2000, Training loss 2.3193, Validation loss 2.3459\n",
            "Epoch 2500, Training loss 1.6770, Validation loss 1.6968\n",
            "Epoch 3000, Training loss 1.2852, Validation loss 1.2997\n",
            "Epoch 3500, Training loss 1.0428, Validation loss 1.0533\n",
            "Epoch 4000, Training loss 0.8898, Validation loss 0.8972\n",
            "Epoch 4500, Training loss 0.7903, Validation loss 0.7953\n",
            "Epoch 5000, Training loss 0.7230, Validation loss 0.7262\n"
          ]
        },
        {
          "output_type": "execute_result",
          "data": {
            "text/plain": [
              "tensor([ 0.6723,  0.5311,  0.8162,  0.5902, -0.0250,  0.6108,  0.3944,  0.8972,\n",
              "         0.4281,  0.6200,  0.5405,  0.5116, -1.0482], requires_grad=True)"
            ]
          },
          "metadata": {},
          "execution_count": 410
        }
      ]
    }
  ]
}